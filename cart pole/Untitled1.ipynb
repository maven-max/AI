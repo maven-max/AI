{
 "cells": [
  {
   "cell_type": "markdown",
   "id": "2ce38371-a5ec-42e1-93cc-a0d402817e4b",
   "metadata": {},
   "source": [
    "## 1. Import dependencies"
   ]
  },
  {
   "cell_type": "code",
   "execution_count": null,
   "id": "abcba10e-c9f6-48e9-b33b-abcf1d42266b",
   "metadata": {},
   "outputs": [],
   "source": [
    "!pip install stable-baselines3[extra]"
   ]
  },
  {
   "cell_type": "code",
   "execution_count": null,
   "id": "48aa895f-9be7-4087-bcb0-0091453b875c",
   "metadata": {},
   "outputs": [],
   "source": [
    "import os\n",
    "import gym\n",
    "from stable_baselines3 import PPO\n",
    "from stable_baselines3.common.vec_env import DummyVecEnv\n",
    "from stable_baselines3.common.evaluation import evaluate_policy"
   ]
  },
  {
   "cell_type": "markdown",
   "id": "0f9a3fd3-0137-4560-81ba-9c2b2ce2d839",
   "metadata": {
    "tags": []
   },
   "source": [
    "## 2. Load Environment"
   ]
  },
  {
   "cell_type": "markdown",
   "id": "0168a298",
   "metadata": {},
   "source": [
    "#### The main environment functions are:\n",
    "\n",
    "env.reset() - reset the environment and obtain initial obsrvations  \n",
    "env.render() - visualise the environment  \n",
    "env.step() - apply an action to the environment  \n",
    "env.close() - close down the rendr frame"
   ]
  },
  {
   "cell_type": "code",
   "execution_count": null,
   "id": "98e81bdd",
   "metadata": {},
   "outputs": [],
   "source": [
    "environment_name = 'CartPole-v0'\n",
    "env = gym.make(environment_name)"
   ]
  },
  {
   "cell_type": "code",
   "execution_count": null,
   "id": "175674ef",
   "metadata": {},
   "outputs": [],
   "source": [
    "# Test1\n",
    "environment_name"
   ]
  },
  {
   "cell_type": "code",
   "execution_count": null,
   "id": "30fa6a0f",
   "metadata": {},
   "outputs": [],
   "source": [
    "episodes = 5\n",
    "for episode in range(1, episodes+1):\n",
    "    state = env.reset()\n",
    "    done = False\n",
    "    score = 0\n",
    "\n",
    "    while not done:\n",
    "        env.render()\n",
    "        action = env.action_space.sample()\n",
    "        n_state, reward, done, info = env.step(action)\n",
    "        score += reward\n",
    "    print('Episode:() Score:()'.format(episode, score))\n",
    "    env.close()"
   ]
  },
  {
   "cell_type": "code",
   "execution_count": null,
   "id": "5d362f80",
   "metadata": {},
   "outputs": [],
   "source": [
    "# Test2\n",
    "episodes = 5\n",
    "for episode in range(1, episodes+1):\n",
    "    print(episode)"
   ]
  },
  {
   "cell_type": "code",
   "execution_count": 27,
   "id": "89072c47",
   "metadata": {},
   "outputs": [
    {
     "data": {
      "text/plain": [
       "array([ 0.03236868,  0.03182025,  0.03175081, -0.02155771], dtype=float32)"
      ]
     },
     "execution_count": 27,
     "metadata": {},
     "output_type": "execute_result"
    }
   ],
   "source": [
    "# Test3\n",
    "env.reset()     # outputs observations\n",
    "# agent, action, environment, observation + rewards"
   ]
  },
  {
   "cell_type": "code",
   "execution_count": 43,
   "id": "e9a95566",
   "metadata": {},
   "outputs": [
    {
     "name": "stderr",
     "output_type": "stream",
     "text": [
      "C:\\Users\\Emmanuel Egote\\AppData\\Local\\Programs\\Python\\Python310\\lib\\site-packages\\gym\\envs\\classic_control\\cartpole.py:150: UserWarning: \u001b[33mWARN: You are calling 'step()' even though this environment has already returned done = True. You should always call 'reset()' once you receive 'done = True' -- any further steps are undefined behavior.\u001b[0m\n",
      "  logger.warn(\n"
     ]
    },
    {
     "data": {
      "text/plain": [
       "(array([ 0.22823319,  1.4066995 , -0.26295477, -2.3368144 ], dtype=float32),\n",
       " 0.0,\n",
       " True,\n",
       " {})"
      ]
     },
     "execution_count": 43,
     "metadata": {},
     "output_type": "execute_result"
    }
   ],
   "source": [
    "# Test4\n",
    "# env.action_space.sample()\n",
    "# env.observation_space.sample()\n",
    "env.step(1)"
   ]
  },
  {
   "cell_type": "markdown",
   "id": "3940e0ff",
   "metadata": {},
   "source": [
    "## Understanding The Enviroment\n",
    "https://github.com/openai/gym/blob/master/gym/envs/classic_control/cartpole.py"
   ]
  },
  {
   "cell_type": "code",
   "execution_count": null,
   "id": "937e884a",
   "metadata": {},
   "outputs": [],
   "source": [
    "# import gym"
   ]
  },
  {
   "cell_type": "markdown",
   "id": "588c25a9-480a-432d-a910-b07cf29396b3",
   "metadata": {},
   "source": [
    "## 3. Train an RL Model"
   ]
  },
  {
   "cell_type": "markdown",
   "id": "77d35fa8-5d2e-4bd7-9c8f-665b78e17ae9",
   "metadata": {
    "tags": []
   },
   "source": [
    "## 4. Save and Reload Model"
   ]
  },
  {
   "cell_type": "markdown",
   "id": "905e2d18-16ee-47a0-b4d8-bf0461098fe0",
   "metadata": {},
   "source": [
    "## 5. Evaluation"
   ]
  },
  {
   "cell_type": "markdown",
   "id": "f2153a79-a091-41c0-a784-f2088a81df57",
   "metadata": {},
   "source": [
    "## 6. Test Model"
   ]
  },
  {
   "cell_type": "markdown",
   "id": "361030d1-beed-4659-b1df-ce309658ce48",
   "metadata": {},
   "source": [
    "## 7. Viewing Logs in Tensorboard"
   ]
  },
  {
   "cell_type": "markdown",
   "id": "76a676a4-9f65-4867-9816-dcc1c80efd0b",
   "metadata": {},
   "source": [
    "## 8. Adding a callback to the Training Stage"
   ]
  },
  {
   "cell_type": "markdown",
   "id": "48114b35-612a-4024-ba91-a666d41d04b3",
   "metadata": {},
   "source": [
    "## 9. Changing Policies"
   ]
  },
  {
   "cell_type": "markdown",
   "id": "79aca42b-8ef6-4894-9b00-7ca8e24b9e77",
   "metadata": {},
   "source": [
    "## 10. Using an Alternative Algorithm"
   ]
  },
  {
   "cell_type": "code",
   "execution_count": null,
   "id": "db0cf4a1-921e-40dd-ac19-286e13899143",
   "metadata": {},
   "outputs": [],
   "source": []
  }
 ],
 "metadata": {
  "kernelspec": {
   "display_name": "Python 3 (ipykernel)",
   "language": "python",
   "name": "python3"
  },
  "language_info": {
   "codemirror_mode": {
    "name": "ipython",
    "version": 3
   },
   "file_extension": ".py",
   "mimetype": "text/x-python",
   "name": "python",
   "nbconvert_exporter": "python",
   "pygments_lexer": "ipython3",
   "version": "3.10.2"
  }
 },
 "nbformat": 4,
 "nbformat_minor": 5
}
