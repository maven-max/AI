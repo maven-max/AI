{
 "cells": [
  {
   "cell_type": "markdown",
   "id": "2ce38371-a5ec-42e1-93cc-a0d402817e4b",
   "metadata": {},
   "source": [
    "## 1. Import dependencies"
   ]
  },
  {
   "cell_type": "code",
   "execution_count": 3,
   "id": "abcba10e-c9f6-48e9-b33b-abcf1d42266b",
   "metadata": {},
   "outputs": [
    {
     "name": "stdout",
     "output_type": "stream",
     "text": [
      "Collecting stable-baselines3[extra]\n",
      "  Using cached stable_baselines3-1.5.0-py3-none-any.whl (177 kB)\n",
      "Collecting gym==0.21\n",
      "  Using cached gym-0.21.0.tar.gz (1.5 MB)\n",
      "  Preparing metadata (setup.py): started\n",
      "  Preparing metadata (setup.py): finished with status 'done'\n",
      "Collecting pandas\n",
      "  Using cached pandas-1.4.2-cp310-cp310-win_amd64.whl (10.6 MB)\n",
      "Collecting torch>=1.8.1\n",
      "  Using cached torch-1.11.0-cp310-cp310-win_amd64.whl (158.0 MB)\n",
      "Collecting matplotlib\n",
      "  Using cached matplotlib-3.5.1-cp310-cp310-win_amd64.whl (7.2 MB)\n",
      "Requirement already satisfied: cloudpickle in c:\\users\\emmanuel egote\\appdata\\local\\programs\\python\\python310\\lib\\site-packages (from stable-baselines3[extra]) (2.0.0)\n",
      "Requirement already satisfied: numpy in c:\\users\\emmanuel egote\\appdata\\local\\programs\\python\\python310\\lib\\site-packages (from stable-baselines3[extra]) (1.22.3)\n",
      "Collecting tensorboard>=2.2.0\n",
      "  Using cached tensorboard-2.8.0-py3-none-any.whl (5.8 MB)\n",
      "Requirement already satisfied: psutil in c:\\users\\emmanuel egote\\appdata\\local\\programs\\python\\python310\\lib\\site-packages (from stable-baselines3[extra]) (5.9.0)\n",
      "Collecting ale-py~=0.7.4\n",
      "  Downloading ale_py-0.7.5-cp310-cp310-win_amd64.whl (935 kB)\n",
      "     ------------------------------------ 935.2/935.2 KB 924.9 kB/s eta 0:00:00\n",
      "Collecting pillow\n",
      "  Downloading Pillow-9.1.0-cp310-cp310-win_amd64.whl (3.3 MB)\n",
      "     ---------------------------------------- 3.3/3.3 MB 190.9 kB/s eta 0:00:00\n",
      "Collecting opencv-python\n",
      "  Using cached opencv_python-4.5.5.64-cp36-abi3-win_amd64.whl (35.4 MB)\n",
      "Collecting autorom[accept-rom-license]~=0.4.2\n",
      "  Using cached AutoROM-0.4.2-py3-none-any.whl (16 kB)\n",
      "Collecting importlib-resources\n",
      "  Downloading importlib_resources-5.7.1-py3-none-any.whl (28 kB)\n",
      "Requirement already satisfied: requests in c:\\users\\emmanuel egote\\appdata\\local\\programs\\python\\python310\\lib\\site-packages (from autorom[accept-rom-license]~=0.4.2->stable-baselines3[extra]) (2.27.1)\n",
      "Collecting tqdm\n",
      "  Downloading tqdm-4.64.0-py2.py3-none-any.whl (78 kB)\n",
      "     -------------------------------------- 78.4/78.4 KB 396.6 kB/s eta 0:00:00\n",
      "Collecting click\n",
      "  Downloading click-8.1.2-py3-none-any.whl (96 kB)\n",
      "     -------------------------------------- 96.6/96.6 KB 918.4 kB/s eta 0:00:00\n",
      "Collecting AutoROM.accept-rom-license\n",
      "  Downloading AutoROM.accept-rom-license-0.4.2.tar.gz (9.8 kB)\n",
      "  Installing build dependencies: started\n",
      "  Installing build dependencies: finished with status 'done'\n",
      "  Getting requirements to build wheel: started\n",
      "  Getting requirements to build wheel: finished with status 'done'\n",
      "  Preparing metadata (pyproject.toml): started\n",
      "  Preparing metadata (pyproject.toml): finished with status 'done'\n",
      "Requirement already satisfied: setuptools>=41.0.0 in c:\\users\\emmanuel egote\\appdata\\local\\programs\\python\\python310\\lib\\site-packages (from tensorboard>=2.2.0->stable-baselines3[extra]) (58.1.0)\n",
      "Collecting absl-py>=0.4\n",
      "  Downloading absl_py-1.0.0-py3-none-any.whl (126 kB)\n",
      "     ------------------------------------ 126.7/126.7 KB 437.7 kB/s eta 0:00:00\n",
      "Collecting wheel>=0.26\n",
      "  Using cached wheel-0.37.1-py2.py3-none-any.whl (35 kB)\n",
      "Collecting google-auth<3,>=1.6.3\n",
      "  Downloading google_auth-2.6.6-py2.py3-none-any.whl (156 kB)\n",
      "     ------------------------------------ 156.7/156.7 KB 275.8 kB/s eta 0:00:00\n",
      "Collecting grpcio>=1.24.3\n",
      "  Downloading grpcio-1.44.0-cp310-cp310-win_amd64.whl (3.4 MB)\n",
      "     ---------------------------------------- 3.4/3.4 MB 345.0 kB/s eta 0:00:00\n",
      "Collecting google-auth-oauthlib<0.5,>=0.4.1\n",
      "  Downloading google_auth_oauthlib-0.4.6-py2.py3-none-any.whl (18 kB)\n",
      "Collecting protobuf>=3.6.0\n",
      "  Downloading protobuf-3.20.1-cp310-cp310-win_amd64.whl (903 kB)\n",
      "     ------------------------------------ 903.8/903.8 KB 515.3 kB/s eta 0:00:00\n",
      "Collecting markdown>=2.6.8\n",
      "  Downloading Markdown-3.3.6-py3-none-any.whl (97 kB)\n",
      "     -------------------------------------- 97.8/97.8 KB 621.0 kB/s eta 0:00:00\n",
      "Collecting tensorboard-plugin-wit>=1.6.0\n",
      "  Downloading tensorboard_plugin_wit-1.8.1-py3-none-any.whl (781 kB)\n",
      "     ------------------------------------ 781.3/781.3 KB 452.8 kB/s eta 0:00:00\n",
      "Collecting tensorboard-data-server<0.7.0,>=0.6.0\n",
      "  Downloading tensorboard_data_server-0.6.1-py3-none-any.whl (2.4 kB)\n",
      "Collecting werkzeug>=0.11.15\n",
      "  Downloading Werkzeug-2.1.1-py3-none-any.whl (224 kB)\n",
      "     ------------------------------------ 224.7/224.7 KB 685.0 kB/s eta 0:00:00\n",
      "Collecting typing-extensions\n",
      "  Downloading typing_extensions-4.2.0-py3-none-any.whl (24 kB)\n",
      "Requirement already satisfied: packaging>=20.0 in c:\\users\\emmanuel egote\\appdata\\local\\programs\\python\\python310\\lib\\site-packages (from matplotlib->stable-baselines3[extra]) (21.3)\n",
      "Requirement already satisfied: pyparsing>=2.2.1 in c:\\users\\emmanuel egote\\appdata\\local\\programs\\python\\python310\\lib\\site-packages (from matplotlib->stable-baselines3[extra]) (3.0.8)\n",
      "Collecting kiwisolver>=1.0.1\n",
      "  Downloading kiwisolver-1.4.2-cp310-cp310-win_amd64.whl (55 kB)\n",
      "     -------------------------------------- 55.3/55.3 KB 319.7 kB/s eta 0:00:00\n",
      "Collecting cycler>=0.10\n",
      "  Downloading cycler-0.11.0-py3-none-any.whl (6.4 kB)\n",
      "Collecting fonttools>=4.22.0\n",
      "  Downloading fonttools-4.33.2-py3-none-any.whl (930 kB)\n",
      "     ------------------------------------ 930.7/930.7 KB 453.2 kB/s eta 0:00:00\n",
      "Requirement already satisfied: python-dateutil>=2.7 in c:\\users\\emmanuel egote\\appdata\\local\\programs\\python\\python310\\lib\\site-packages (from matplotlib->stable-baselines3[extra]) (2.8.2)\n",
      "Requirement already satisfied: pytz>=2020.1 in c:\\users\\emmanuel egote\\appdata\\local\\programs\\python\\python310\\lib\\site-packages (from pandas->stable-baselines3[extra]) (2022.1)\n",
      "Requirement already satisfied: six in c:\\users\\emmanuel egote\\appdata\\local\\programs\\python\\python310\\lib\\site-packages (from absl-py>=0.4->tensorboard>=2.2.0->stable-baselines3[extra]) (1.16.0)\n",
      "Collecting rsa<5,>=3.1.4\n",
      "  Downloading rsa-4.8-py3-none-any.whl (39 kB)\n",
      "Collecting pyasn1-modules>=0.2.1\n",
      "  Downloading pyasn1_modules-0.2.8-py2.py3-none-any.whl (155 kB)\n",
      "     ------------------------------------ 155.3/155.3 KB 178.4 kB/s eta 0:00:00\n",
      "Collecting cachetools<6.0,>=2.0.0\n",
      "  Downloading cachetools-5.0.0-py3-none-any.whl (9.1 kB)\n",
      "Collecting requests-oauthlib>=0.7.0\n",
      "  Downloading requests_oauthlib-1.3.1-py2.py3-none-any.whl (23 kB)\n",
      "Requirement already satisfied: idna<4,>=2.5 in c:\\users\\emmanuel egote\\appdata\\local\\programs\\python\\python310\\lib\\site-packages (from requests->autorom[accept-rom-license]~=0.4.2->stable-baselines3[extra]) (3.3)\n",
      "Requirement already satisfied: urllib3<1.27,>=1.21.1 in c:\\users\\emmanuel egote\\appdata\\local\\programs\\python\\python310\\lib\\site-packages (from requests->autorom[accept-rom-license]~=0.4.2->stable-baselines3[extra]) (1.26.9)\n",
      "Requirement already satisfied: certifi>=2017.4.17 in c:\\users\\emmanuel egote\\appdata\\local\\programs\\python\\python310\\lib\\site-packages (from requests->autorom[accept-rom-license]~=0.4.2->stable-baselines3[extra]) (2021.10.8)\n",
      "Requirement already satisfied: charset-normalizer~=2.0.0 in c:\\users\\emmanuel egote\\appdata\\local\\programs\\python\\python310\\lib\\site-packages (from requests->autorom[accept-rom-license]~=0.4.2->stable-baselines3[extra]) (2.0.12)\n",
      "Requirement already satisfied: colorama in c:\\users\\emmanuel egote\\appdata\\local\\programs\\python\\python310\\lib\\site-packages (from click->autorom[accept-rom-license]~=0.4.2->stable-baselines3[extra]) (0.4.4)\n",
      "Collecting pyasn1<0.5.0,>=0.4.6\n",
      "  Downloading pyasn1-0.4.8-py2.py3-none-any.whl (77 kB)\n",
      "     -------------------------------------- 77.1/77.1 KB 329.6 kB/s eta 0:00:00\n",
      "Collecting oauthlib>=3.0.0\n",
      "  Downloading oauthlib-3.2.0-py3-none-any.whl (151 kB)\n",
      "     ------------------------------------ 151.5/151.5 KB 143.4 kB/s eta 0:00:00\n",
      "Using legacy 'setup.py install' for gym, since package 'wheel' is not installed.\n",
      "Building wheels for collected packages: AutoROM.accept-rom-license\n",
      "  Building wheel for AutoROM.accept-rom-license (pyproject.toml): started\n",
      "  Building wheel for AutoROM.accept-rom-license (pyproject.toml): finished with status 'done'\n",
      "  Created wheel for AutoROM.accept-rom-license: filename=AutoROM.accept_rom_license-0.4.2-py3-none-any.whl size=446464 sha256=7dd6d90b8502ee8abff7713631ec2ffffcb8e96b0c8c0cf8ad00aefa38bb0af8\n",
      "  Stored in directory: c:\\users\\emmanuel egote\\appdata\\local\\pip\\cache\\wheels\\77\\d9\\1c\\8e9cdcfe1e3a7480ea1fec05326d3fec295e5ca0e87163b522\n",
      "Successfully built AutoROM.accept-rom-license\n",
      "Installing collected packages: tensorboard-plugin-wit, pyasn1, wheel, werkzeug, typing-extensions, tqdm, tensorboard-data-server, rsa, pyasn1-modules, protobuf, pillow, opencv-python, oauthlib, markdown, kiwisolver, importlib-resources, gym, grpcio, fonttools, cycler, click, cachetools, absl-py, torch, requests-oauthlib, pandas, matplotlib, google-auth, AutoROM.accept-rom-license, autorom, ale-py, stable-baselines3, google-auth-oauthlib, tensorboard\n",
      "  Attempting uninstall: gym\n",
      "    Found existing installation: gym 0.23.1\n",
      "    Uninstalling gym-0.23.1:\n",
      "      Successfully uninstalled gym-0.23.1\n",
      "  Running setup.py install for gym: started\n",
      "  Running setup.py install for gym: finished with status 'done'\n",
      "Successfully installed AutoROM.accept-rom-license-0.4.2 absl-py-1.0.0 ale-py-0.7.5 autorom-0.4.2 cachetools-5.0.0 click-8.1.2 cycler-0.11.0 fonttools-4.33.2 google-auth-2.6.6 google-auth-oauthlib-0.4.6 grpcio-1.44.0 gym-0.21.0 importlib-resources-5.7.1 kiwisolver-1.4.2 markdown-3.3.6 matplotlib-3.5.1 oauthlib-3.2.0 opencv-python-4.5.5.64 pandas-1.4.2 pillow-9.1.0 protobuf-3.20.1 pyasn1-0.4.8 pyasn1-modules-0.2.8 requests-oauthlib-1.3.1 rsa-4.8 stable-baselines3-1.5.0 tensorboard-2.8.0 tensorboard-data-server-0.6.1 tensorboard-plugin-wit-1.8.1 torch-1.11.0 tqdm-4.64.0 typing-extensions-4.2.0 werkzeug-2.1.1 wheel-0.37.1\n"
     ]
    }
   ],
   "source": [
    "!pip install stable-baselines3[extra]"
   ]
  },
  {
   "cell_type": "code",
   "execution_count": 4,
   "id": "48aa895f-9be7-4087-bcb0-0091453b875c",
   "metadata": {},
   "outputs": [
    {
     "name": "stdout",
     "output_type": "stream",
     "text": [
      "Stop\n",
      "Hello Kwame\n"
     ]
    }
   ],
   "source": [
    "import os\n",
    "import gym\n",
    "from stable-baselines3 import PPO\n",
    "from stable-baselines3.common.vec_env import DummyVecEnv\n",
    "from stable-baselines3.common.evaluation import evaluae_policy"
   ]
  },
  {
   "cell_type": "markdown",
   "id": "0f9a3fd3-0137-4560-81ba-9c2b2ce2d839",
   "metadata": {
    "tags": []
   },
   "source": [
    "## 2. Load Environment\n",
    "## Understanding The Enviroment\n",
    "https://github.com/openai/gym/blob/master/gym/envs/classic_control/cartpole.py"
   ]
  },
  {
   "cell_type": "markdown",
   "id": "588c25a9-480a-432d-a910-b07cf29396b3",
   "metadata": {},
   "source": [
    "## 3. Train an RL Model"
   ]
  },
  {
   "cell_type": "markdown",
   "id": "77d35fa8-5d2e-4bd7-9c8f-665b78e17ae9",
   "metadata": {
    "tags": []
   },
   "source": [
    "## 4. Save and Reload Model"
   ]
  },
  {
   "cell_type": "markdown",
   "id": "905e2d18-16ee-47a0-b4d8-bf0461098fe0",
   "metadata": {},
   "source": [
    "## 5. Evaluation"
   ]
  },
  {
   "cell_type": "markdown",
   "id": "f2153a79-a091-41c0-a784-f2088a81df57",
   "metadata": {},
   "source": [
    "## 6. Test Model"
   ]
  },
  {
   "cell_type": "markdown",
   "id": "361030d1-beed-4659-b1df-ce309658ce48",
   "metadata": {},
   "source": [
    "## 7. Viewing Logs in Tensorboard"
   ]
  },
  {
   "cell_type": "markdown",
   "id": "76a676a4-9f65-4867-9816-dcc1c80efd0b",
   "metadata": {},
   "source": [
    "## 8. Adding a callback to the Training Stage"
   ]
  },
  {
   "cell_type": "markdown",
   "id": "48114b35-612a-4024-ba91-a666d41d04b3",
   "metadata": {},
   "source": [
    "## 9. Changing Policies"
   ]
  },
  {
   "cell_type": "markdown",
   "id": "79aca42b-8ef6-4894-9b00-7ca8e24b9e77",
   "metadata": {},
   "source": [
    "## 10. Using an Alternative Algorithm"
   ]
  },
  {
   "cell_type": "code",
   "execution_count": null,
   "id": "db0cf4a1-921e-40dd-ac19-286e13899143",
   "metadata": {},
   "outputs": [],
   "source": []
  }
 ],
 "metadata": {
  "kernelspec": {
   "display_name": "Python 3 (ipykernel)",
   "language": "python",
   "name": "python3"
  },
  "language_info": {
   "codemirror_mode": {
    "name": "ipython",
    "version": 3
   },
   "file_extension": ".py",
   "mimetype": "text/x-python",
   "name": "python",
   "nbconvert_exporter": "python",
   "pygments_lexer": "ipython3",
   "version": "3.10.2"
  }
 },
 "nbformat": 4,
 "nbformat_minor": 5
}
