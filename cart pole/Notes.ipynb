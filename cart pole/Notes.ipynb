{
 "cells": [
  {
   "cell_type": "markdown",
   "metadata": {},
   "source": [
    "> ### The main environment functions are:\n",
    "\n",
    "- env.reset() - reset the environment and obtain initial obsrvations\n",
    "- env.render() - visualise the environment\n",
    "- env.step() - apply an action to the environment\n",
    "- env.close() - close down the rendr frame"
   ]
  },
  {
   "cell_type": "markdown",
   "metadata": {},
   "source": [
    "> ### OpenAI Gym Spaces\n",
    "\n",
    "- **Box** - n dimensionaal tensor, range of values\n",
    "    - E.g. Box(0,1,shape=(3,3))\n",
    "- **Discrete** - set of items\n",
    "    - E.g. Discrete(3)\n",
    "- **Tuple** tuple of other spaces e.g. Box or Discrete\n",
    "    - E.g. Tuple((Discrete(2), Box(0,100, shape=(1,))))\n",
    "- **Dict** - dictionary of spaces e.g. Box of Discrete\n",
    "    - E.g. Dict(('height':Discrete(2), \"speed\":Box(0,100, shape=(1,))))\n",
    "- **MultiBinary** - one hot encoded binary values\n",
    "    - E.g. Multibinary(4)\n",
    "- **MultiDiscrete** - multiple discrete values\n",
    "    - E.g. MultiDiscrete((5,2,2))"
   ]
  },
  {
   "cell_type": "markdown",
   "metadata": {},
   "source": []
  }
 ],
 "metadata": {
  "language_info": {
   "name": "python"
  },
  "orig_nbformat": 4
 },
 "nbformat": 4,
 "nbformat_minor": 2
}
